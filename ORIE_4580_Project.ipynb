{
  "nbformat": 4,
  "nbformat_minor": 0,
  "metadata": {
    "colab": {
      "name": "ORIE 4580 Project.ipynb",
      "provenance": [],
      "collapsed_sections": []
    },
    "kernelspec": {
      "name": "python3",
      "display_name": "Python 3"
    }
  },
  "cells": [
    {
      "cell_type": "code",
      "metadata": {
        "id": "xjANNlZfpgYX"
      },
      "source": [
        "import numpy as np\n",
        "import scipy.stats as sc\n",
        "import matplotlib.pyplot as plt\n",
        "%matplotlib inline\n",
        "from IPython.display import clear_output\n",
        "from time import sleep\n",
        "import pandas as pd\n",
        "import math\n",
        "import random"
      ],
      "execution_count": null,
      "outputs": []
    },
    {
      "cell_type": "code",
      "metadata": {
        "id": "0w4Srqfiv-mK"
      },
      "source": [
        "def plot_bar_3(susceptible, infected, vaccinated, recovered,population):\n",
        "  N=4\n",
        "  ind=np.arange(N)\n",
        "  width=0.3\n",
        "\n",
        "  \n",
        "  fig = plt.subplots(figsize =(10, 7)) \n",
        "  bars = np.add(susceptible, infected).tolist()\n",
        "  bars2=np.add(bars, vaccinated).tolist()\n",
        "\n",
        "  p1 = plt.bar(ind, susceptible, width) \n",
        "  p2 = plt.bar(ind, infected,width, bottom=susceptible) \n",
        "  p3 = plt.bar(ind, vaccinated,width, bottom=bars) \n",
        "  p4 = plt.bar(ind, recovered ,width, bottom=bars2) \n",
        "  \n",
        "  plt.ylabel('Headcount') \n",
        "  plt.title('Animation showing the change in number of people in each subclass overtime') \n",
        "  plt.xticks(ind, ('Medical', 'High-Risk', 'Essential', 'Low-Risk')) \n",
        "  plt.yticks(np.arange(0, population/4, population/4/10)) \n",
        "  plt.legend((p1[0], p2[0], p3[0], p4[0]), ('susceptible', 'infected','vaccinated','recovered')) \n",
        "  \n",
        "  plt.show()"
      ],
      "execution_count": null,
      "outputs": []
    },
    {
      "cell_type": "code",
      "metadata": {
        "id": "TnZQh5a5c_X0"
      },
      "source": [
        "k=3\r\n",
        "R_0=1.5"
      ],
      "execution_count": null,
      "outputs": []
    },
    {
      "cell_type": "code",
      "metadata": {
        "id": "xygar733gB8F"
      },
      "source": [
        "def run_SIR_clusters_2(k_high,k_low,n,R_0,p_i,p_vac,p_dosage):\n",
        "    \"\"\"\n",
        "    Run SIR simulation\n",
        "    ----------\n",
        "    k_high: (int) number of average meetings (higher)\n",
        "    k_low: (int) number of average meetings (lower)\n",
        "    n: number of people in the entire populatin (n/4 per cluster)\n",
        "    R_0: basic reproduction number (number of people you can infect if you are infected)\n",
        "    p_i: probability of infected with symptoms (array)\n",
        "    p_vac: probability of each class receiving a vaccine (array)\n",
        "    p_dosage: percentage of the total population that recives the vaccine daily\n",
        "    Returns\n",
        "    ---------\n",
        "    nodes_R: Number of people who got infected and recovered\n",
        "    \"\"\"\n",
        "    \n",
        "\n",
        "    medical_infected = random.sample(range(int(0),int(n/4)),500) # infected medical worker\n",
        "    essential_infected = random.sample(range(int(n/4),int(n/2)),2500) # infected essential worker\n",
        "    high_risk_infected = random.sample(range(int(n/2),int(3*n/4)),2500) # infected high-risk person\n",
        "    low_risk_infected = random.sample(range(int(3*n/4),int(n)),2500) # infected low-risk preson\n",
        "    nodes_S_medical = np.arange(0,n/4).tolist() # remove infected agent from cluster\n",
        "\n",
        "\n",
        "    medical_vac = []\n",
        "    essential_vac = []\n",
        "    high_risk_vac = []\n",
        "    low_risk_vac = []\n",
        "\n",
        "    day = 0 \n",
        "\n",
        "    num_dosage = p_dosage*n # number of vaccine dosage available daily\n",
        "    leftover_vaccine = 0 # number of leftover vaccine \n",
        "\n",
        "    for each in medical_infected:\n",
        "      nodes_S_medical.remove(each)\n",
        "    nodes_S_essential = np.arange(n/4,n/2).tolist() # remove infected agent from cluster\n",
        "\n",
        "    for each in essential_infected:\n",
        "      nodes_S_essential.remove(each)\n",
        "    \n",
        "    nodes_S_high_risk = np.arange(n/2,3*n/4).tolist() # remove infected agent from cluster\n",
        "\n",
        "    for each in high_risk_infected:\n",
        "      nodes_S_high_risk.remove(each)\n",
        "    nodes_S_low_risk = np.arange(3*n/4,n).tolist() # remove infected agent from cluster\n",
        "\n",
        "    for each in low_risk_infected:\n",
        "      nodes_S_low_risk.remove(each)\n",
        "\n",
        "    nodes_I_medical = {} # dictionary in the format of (index,'A'/'S') with A being asymptomatic and S being symptomatic\n",
        "    nodes_I_essential = {}\n",
        "    nodes_I_high_risk = {}\n",
        "    nodes_I_low_risk = {}\n",
        "\n",
        "    for each in medical_infected:\n",
        "      nodes_I_medical[each] = 'S'\n",
        "\n",
        "    for each in essential_infected:\n",
        "      nodes_I_essential[each] = 'S'\n",
        "    \n",
        "    for each in high_risk_infected:\n",
        "      nodes_I_high_risk[each] = 'S'\n",
        "\n",
        "    for each in low_risk_infected:\n",
        "      nodes_I_low_risk[each] = 'S'\n",
        "\n",
        "\n",
        "    nodes_R_medical = [] # recovered medical \n",
        "    nodes_R_high_risk = [] # recovered high risk\n",
        "    nodes_R_essential = [] # recovered essential\n",
        "    nodes_R_low_risk = [] # recovered low risk\n",
        "\n",
        "\n",
        "    #num_infected = len(nodes_I_essential) + len(nodes_I_high_risk) + len(nodes_I_low_risk) + len(nodes_I_medical)\n",
        "    #num_sus = len(nodes_S_essential) + len(nodes_S_high_risk) + len(nodes_S_low_risk) + len(nodes_S_medical)\n",
        "    h = k_high/(n-1)\n",
        "    l = k_low/(n-1)\n",
        "\n",
        "\n",
        "    beta = (k_high+k_low)/2/R_0 # recovery rate (we took the average of k_high and k_low)\n",
        "\n",
        "    lambda_matrix = [[h,h,l,l],[l,h,l,l],[l,h,l,l],[l,h,l,l],[h,h,h,h]]\n",
        "    \n",
        "    total_11 = len(nodes_S_medical)*sum(value == 'A' for value in nodes_I_medical.values())*lambda_matrix[0][0] # susceptible medical meets asymptomatic infected medical\n",
        "    total_12 = len(nodes_S_medical)*sum(value == 'A' for value in nodes_I_essential.values())*lambda_matrix[0][1] # susceptible medical meets asymptomatic infected essential\n",
        "    total_13 = len(nodes_S_medical)*sum(value == 'A' for value in nodes_I_high_risk.values())*lambda_matrix[0][2] # susceptible medical meets asymptomatic infected high-risk\n",
        "    total_14 = len(nodes_S_medical)*sum(value == 'A' for value in nodes_I_low_risk.values())*lambda_matrix[0][3] # susceptible medical meets asymptomatic infected low-risk\n",
        "    total_21 = len(nodes_S_essential)*sum(value == 'A' for value in nodes_I_medical.values())*lambda_matrix[1][0] # susceptible essential meets asymptomatic infected medical\n",
        "    total_22 = len(nodes_S_essential)*sum(value == 'A' for value in nodes_I_essential.values())*lambda_matrix[1][1] # susceptible essential meets asymptomatic infected essential\n",
        "    total_23 = len(nodes_S_essential)*sum(value == 'A' for value in nodes_I_high_risk.values())*lambda_matrix[1][2] # susceptible essential meets asymptomatic infected high risk\n",
        "    total_24 = len(nodes_S_essential)*sum(value == 'A' for value in nodes_I_low_risk.values())*lambda_matrix[1][3] # susceptible essential meets asymptomatic infected low risk\n",
        "    total_31 = len(nodes_S_high_risk)*sum(value == 'A' for value in nodes_I_medical.values())*lambda_matrix[2][0] # susceptible high risk meets asymptomatic infected medical\n",
        "    total_32 = len(nodes_S_high_risk)*sum(value == 'A' for value in nodes_I_essential.values())*lambda_matrix[2][1] # susceptible high risk meets asymptomatic infected essential\n",
        "    total_33 = len(nodes_S_high_risk)*sum(value == 'A' for value in nodes_I_high_risk.values())*lambda_matrix[2][2] # susceptible high risk meets asymptomatic infected high risk\n",
        "    total_34 = len(nodes_S_high_risk)*sum(value == 'A' for value in nodes_I_low_risk.values())*lambda_matrix[2][3] # susceptible high risk meets asymptomatic infected low risk\n",
        "    total_41 = len(nodes_S_low_risk)*sum(value == 'A' for value in nodes_I_medical.values())*lambda_matrix[3][0] # susceptible low risk meets asymptomatic infected medical\n",
        "    total_42 = len(nodes_S_low_risk)*sum(value == 'A' for value in nodes_I_essential.values())*lambda_matrix[3][1] # susceptible low risk meets asymptomatic infected essential\n",
        "    total_43 = len(nodes_S_low_risk)*sum(value == 'A' for value in nodes_I_high_risk.values())*lambda_matrix[3][2] # susceptible low risk meets asymptomatic infected high risk\n",
        "    total_44 = len(nodes_S_low_risk)*sum(value == 'A' for value in nodes_I_low_risk.values())*lambda_matrix[3][3] # susceptible low risk meets asymptomatic infected low risk\n",
        "\n",
        "    #infected agents from all four classes can meet suscpetible medical workers in C1\n",
        "    total_11s = len(nodes_S_medical)*sum(value == 'S' for value in nodes_I_medical.values())*lambda_matrix[4][0]\n",
        "    total_12s = len(nodes_S_medical)*sum(value == 'S' for value in nodes_I_essential.values())*lambda_matrix[4][1]\n",
        "    total_13s = len(nodes_S_medical)*sum(value == 'S' for value in nodes_I_high_risk.values())*lambda_matrix[4][2]\n",
        "    total_14s = len(nodes_S_medical)*sum(value == 'S' for value in nodes_I_low_risk.values())*lambda_matrix[4][3]\n",
        "    \n",
        "    rate_recover = beta*(len(nodes_I_medical) + len(nodes_I_essential) + len(nodes_I_high_risk) + len(nodes_I_low_risk))\n",
        "    rate_total = total_11 + total_12 + total_13 + total_14 + total_21 + total_22 + total_23 + total_24 + total_31 + total_32 + total_33 + total_34 + total_41 + total_42 + total_43 + total_44 + rate_recover +total_11s + total_12s+ total_13s+ total_14s\n",
        "    t = 0\n",
        "    times = []\n",
        "    nextEvent = t + np.random.exponential(1/rate_total)\n",
        "\n",
        "    counter = 0\n",
        "    num_vaccine = [int(num_dosage*p_vac[0]),int(num_dosage*p_vac[1]),int(num_dosage*p_vac[2]),int(num_dosage*p_vac[3])]\n",
        "    leftover_vaccine = 0\n",
        "\n",
        "    type_event = [0]*20\n",
        "\n",
        "\n",
        "    while (len(nodes_S_medical)!=0 or len(nodes_S_essential)!=0 or len(nodes_S_high_risk)!=0 or len(nodes_S_low_risk)!=0) and (len(nodes_I_medical)!=0 or len(nodes_I_essential)!=0 or len(nodes_I_high_risk)!=0 or len(nodes_I_low_risk)!=0): # no more susceptible or infected individuals\n",
        "\n",
        "\n",
        "        counter = counter + 1\n",
        "        t = t + nextEvent\n",
        "        times.append(t)\n",
        "\n",
        "        #check to see if it is a new day. if so, make more vaccines available\n",
        "        while t - day >= 1:\n",
        "            day = day + 1\n",
        "            num_vaccine = [int(num_dosage*p_vac[0]),int(num_dosage*p_vac[1]),int(num_dosage*p_vac[2]),int(num_dosage*p_vac[3])] # number of vaccine for each class in an array format\n",
        "\n",
        "        #Simplifying assumption: when vaccines are made available, susceptible \n",
        "        #agents will immediately claim these vaccines before interacting with\n",
        "        #any other agents.\n",
        "\n",
        "        \n",
        "        num_vaccine[0] = num_vaccine[0] + leftover_vaccine\n",
        "        leftover_vaccine = 0\n",
        "\n",
        "        # first order: distribution of vaccine to medical \n",
        "        if len(nodes_S_medical) != 0 :\n",
        "          # if there are more infected medical workers than vaccine\n",
        "          if len(nodes_S_medical) >= num_vaccine[0]:\n",
        "            for each in range(num_vaccine[0]):\n",
        "              i = nodes_S_medical[0]\n",
        "              medical_vac.append(i)\n",
        "              nodes_S_medical.remove(i)\n",
        "            num_vaccine[0] = 0\n",
        "\n",
        "          # if there are more vaccines than there are infected medical workers\n",
        "          else:\n",
        "            for each in range(len(nodes_S_medical)):\n",
        "              i = nodes_S_medical[0]\n",
        "              medical_vac.append(i)\n",
        "              nodes_S_medical.remove(i)\n",
        "            num_vaccine[1] = num_vaccine[1] + (num_vaccine[0]-len(nodes_S_medical))\n",
        "            num_vaccine[0] = 0\n",
        "\n",
        "        # second order: distribution of vaccine to high risk \n",
        "        if len(nodes_S_high_risk)!=0:\n",
        "          # if there are more infected high risk individuals than vaccine\n",
        "          if len(nodes_S_high_risk) >= num_vaccine[1]:\n",
        "            for each in range(num_vaccine[1]):\n",
        "              i = nodes_S_high_risk[0]\n",
        "              high_risk_vac.append(i)\n",
        "              nodes_S_high_risk.remove(i)\n",
        "            num_vaccine[1] = 0\n",
        "\n",
        "          # if there are more vaccines than there are infected medical workers\n",
        "          else:\n",
        "            for each in range(len(nodes_S_high_risk)):\n",
        "              i = nodes_S_high_risk[0]\n",
        "              high_risk_vac.append(i)\n",
        "              nodes_S_high_risk.remove(i)\n",
        "            num_vaccine[2] = num_vaccine[2] + (num_vaccine[1]-len(nodes_S_high_risk))\n",
        "            num_vaccine[1] = 0\n",
        "\n",
        "        # third order: distribution of vaccine to essential\n",
        "        if len(nodes_S_essential)!=0:\n",
        "          # if there are more infected essential individuals than vaccine\n",
        "          if len(nodes_S_essential) >= num_vaccine[2]:\n",
        "            for each in range(num_vaccine[2]):\n",
        "              i = nodes_S_essential[0]\n",
        "              essential_vac.append(i)\n",
        "              nodes_S_essential.remove(i)\n",
        "            num_vaccine[2] = 0\n",
        "\n",
        "          # if there are more vaccines than there are infected essential workers\n",
        "          else:\n",
        "            for each in range(len(nodes_S_high_risk)):\n",
        "              i = nodes_S_high_risk[0]\n",
        "              essential_vac.append(i)\n",
        "              nodes_S_essential.remove(i)\n",
        "            num_vaccine[3] = num_vaccine[3] + (num_vaccine[2]-len(nodes_S_essential))\n",
        "            num_vaccine[2] = 0\n",
        "\n",
        "        # fourth order: distribution of vaccine to low risk\n",
        "        if len(nodes_S_low_risk)!=0:\n",
        "          # if there are more infected essential individuals than vaccine\n",
        "          if len(nodes_S_low_risk) >= num_vaccine[3]:\n",
        "            for each in range(num_vaccine[3]):\n",
        "              i = nodes_S_low_risk[0]\n",
        "              low_risk_vac.append(i)\n",
        "              nodes_S_low_risk.remove(i)\n",
        "            num_vaccine[3] = 0\n",
        "\n",
        "          # if there are more vaccines than there are infected essential workers\n",
        "          else:\n",
        "            for each in range(len(nodes_S_low_risk)):\n",
        "              i = nodes_S_low_risk[0]\n",
        "              low_risk_vac.append(i)\n",
        "              nodes_S_low_risk.remove(i)\n",
        "            leftover_vaccine = num_vaccine[3]-len(nodes_S_low_risk)\n",
        "            num_vaccine[3] = 0\n",
        "\n",
        "        U = np.random.rand()\n",
        "\n",
        "        events = [0, \n",
        "                  total_11/rate_total, \n",
        "                  (total_11+total_12)/rate_total, \n",
        "                  (total_11+total_12+total_13)/rate_total, \n",
        "                  (total_11+total_12+total_13+total_14)/rate_total,\n",
        "                  (total_11+total_12+total_13+total_14+total_21)/rate_total,\n",
        "                  (total_11+total_12+total_13+total_14+total_21+total_22)/rate_total,\n",
        "                  (total_11+total_12+total_13+total_14+total_21+total_22 + total_23)/rate_total, \n",
        "                  (total_11+total_12+total_13+total_14+total_21+total_22 + total_23+total_24)/rate_total,\n",
        "                  (total_11+total_12+total_13+total_14+total_21+total_22 + total_23+total_24+total_31)/rate_total,\n",
        "                  (total_11+total_12+total_13+total_14+total_21+total_22 + total_23+total_24+total_31+total_32)/rate_total,\n",
        "                  (total_11+total_12+total_13+total_14+total_21+total_22 + total_23+total_24+total_31+total_32+total_33)/rate_total,\n",
        "                  (total_11+total_12+total_13+total_14+total_21+total_22 + total_23+total_24+total_31+total_32+total_33+total_34)/rate_total,\n",
        "                  (total_11+total_12+total_13+total_14+total_21+total_22 + total_23+total_24+total_31+total_32+total_33+total_34+total_41)/rate_total,\n",
        "                  (total_11+total_12+total_13+total_14+total_21+total_22 + total_23+total_24+total_31+total_32+total_33+total_34+total_41+total_42)/rate_total,\n",
        "                  (total_11+total_12+total_13+total_14+total_21+total_22 + total_23+total_24+total_31+total_32+total_33+total_34+total_41+total_42+total_43)/rate_total,\n",
        "                  (total_11+total_12+total_13+total_14+total_21+total_22 + total_23+total_24+total_31+total_32+total_33+total_34+total_41+total_42+total_43+total_44)/rate_total,\n",
        "                  (total_11+total_12+total_13+total_14+total_21+total_22 + total_23+total_24+total_31+total_32+total_33+total_34+total_41+total_42+total_43+total_44+total_11s)/rate_total,\n",
        "                  (total_11+total_12+total_13+total_14+total_21+total_22 + total_23+total_24+total_31+total_32+total_33+total_34+total_41+total_42+total_43+total_44+total_11s+total_12s)/rate_total,\n",
        "                  (total_11+total_12+total_13+total_14+total_21+total_22 + total_23+total_24+total_31+total_32+total_33+total_34+total_41+total_42+total_43+total_44+total_11s+total_12s+total_13s)/rate_total,\n",
        "                  (total_11+total_12+total_13+total_14+total_21+total_22 + total_23+total_24+total_31+total_32+total_33+total_34+total_41+total_42+total_43+total_44+total_11s+total_12s+total_13s+total_14s)/rate_total]\n",
        "        \n",
        "\n",
        "        # scenario 1: susceptible medical meets infected medical   \n",
        "        if events[0]<= U<= events[1] and len(nodes_S_medical)!=0:\n",
        "            i=np.random.choice(nodes_S_medical)\n",
        "           # determine whether symptomatic or asymptomatic\n",
        "            p_symptom = np.random.uniform(0,1)\n",
        "            if p_symptom <= p_i[0]: # symptomatic\n",
        "                nodes_I_medical[i] = 'S'\n",
        "                nodes_S_medical.remove(i)\n",
        "            else: # asymptomatic\n",
        "                nodes_I_medical[i] = 'A'\n",
        "                nodes_S_medical.remove(i)\n",
        "            \n",
        "            type_event[0] = type_event[0] + 1\n",
        "\n",
        "        # scenario 2: susceptible medical meets infected essential\n",
        "        elif U <= events[2] and len(nodes_S_medical)!=0:\n",
        "            i = np.random.choice(nodes_S_medical)\n",
        "            # determine whether symptomatic or asymptomatic\n",
        "            p_symptom = np.random.uniform(0,1)\n",
        "            if p_symptom <= p_i[0]: # symptomatic\n",
        "                nodes_I_medical[i] = 'S'\n",
        "                nodes_S_medical.remove(i)\n",
        "            else: # asymptomatic\n",
        "                nodes_I_medical[i] = 'A'\n",
        "                nodes_S_medical.remove(i)\n",
        "\n",
        "            type_event[1] = type_event[1] + 1\n",
        "\n",
        "        # scenario 3: susceptible medical meets infected high risk\n",
        "        elif U <=events[3] and len(nodes_S_medical)!=0:\n",
        "            i = np.random.choice(nodes_S_medical)\n",
        "            # determine whether symptomatic or asymptomatic\n",
        "            p_symptom = np.random.uniform(0,1)\n",
        "            if p_symptom <= p_i[0]: # symptomatic\n",
        "                nodes_I_medical[i] = 'S'\n",
        "                nodes_S_medical.remove(i)\n",
        "            else: # asymptomatic\n",
        "                nodes_I_medical[i] = 'A'\n",
        "                nodes_S_medical.remove(i)\n",
        "\n",
        "            type_event[2] = type_event[2] + 1\n",
        "            \n",
        "        # scenario 4: susceptible medical meets infected low risk\n",
        "        elif U<=events[4] and len(nodes_S_medical)!=0:\n",
        "            i = np.random.choice(nodes_S_medical)\n",
        "            # determine whether symptomatic or asymptomatic\n",
        "            p_symptom = np.random.uniform(0,1)\n",
        "            if p_symptom <= p_i[0]: # symptomatic\n",
        "                nodes_I_medical[i] = 'S'\n",
        "                nodes_S_medical.remove(i)\n",
        "            else: # asymptomatic\n",
        "                nodes_I_medical[i] = 'A'\n",
        "                nodes_S_medical.remove(i)\n",
        "\n",
        "            type_event[3] = type_event[3] + 1\n",
        "\n",
        "        # scenario 5: susceptible essential meets infected medical\n",
        "        elif U<=events[5] and len(nodes_S_essential)!=0:\n",
        "            i = np.random.choice(nodes_S_essential)\n",
        "            # determine whether symptomatic or asymptomatic\n",
        "            p_symptom = np.random.uniform(0,1)\n",
        "            if p_symptom <= p_i[1]: # symptomatic\n",
        "                nodes_I_essential[i] = 'S'\n",
        "                nodes_S_essential.remove(i)\n",
        "            else: # asymptomatic\n",
        "                nodes_I_essential[i] = 'A'\n",
        "                nodes_S_essential.remove(i)\n",
        "            \n",
        "            type_event[4] = type_event[4] + 1\n",
        "\n",
        "        # scenario 6: susceptible essential meets infected essential\n",
        "        elif U<=events[6] and len(nodes_S_essential)!=0:\n",
        "            i = np.random.choice(nodes_S_essential)\n",
        "            # determine whether symptomatic or asymptomatic\n",
        "            p_symptom = np.random.uniform(0,1)\n",
        "            if p_symptom <= p_i[1]: # symptomatic\n",
        "                nodes_I_essential[i] = 'S'\n",
        "                nodes_S_essential.remove(i)\n",
        "            else: # asymptomatic\n",
        "                nodes_I_essential[i] = 'A'\n",
        "                nodes_S_essential.remove(i)\n",
        "    \n",
        "\n",
        "            type_event[5] = type_event[5] + 1\n",
        "\n",
        "        # scenario 7: susceptible essential meets infected high risk\n",
        "        elif U<=events[7] and len(nodes_S_essential)!=0:\n",
        "            i = np.random.choice(nodes_S_essential)\n",
        "            # determine whether symptomatic or asymptomatic\n",
        "            p_symptom = np.random.uniform(0,1)\n",
        "            if p_symptom <= p_i[1]: # symptomatic\n",
        "                nodes_I_essential[i] = 'S'\n",
        "                nodes_S_essential.remove(i)\n",
        "            else: # asymptomatic\n",
        "                nodes_I_essential[i] = 'A'\n",
        "                nodes_S_essential.remove(i)\n",
        "            \n",
        "            type_event[6] = type_event[6] + 1\n",
        "        # scenario 8: susceptible essential meets infected low risk\n",
        "        elif U<=events[8] and len(nodes_S_essential)!=0:\n",
        "            i = np.random.choice(nodes_S_essential)\n",
        "            # determine whether symptomatic or asymptomatic\n",
        "            p_symptom = np.random.uniform(0,1)\n",
        "            if p_symptom <= p_i[1]: # symptomatic\n",
        "                nodes_I_essential[i] = 'S'\n",
        "                nodes_S_essential.remove(i)\n",
        "            else: # asymptomatic\n",
        "                nodes_I_essential[i] = 'A'\n",
        "                nodes_S_essential.remove(i)\n",
        "\n",
        "            type_event[7] = type_event[7] + 1\n",
        "        # scenario 9: susceptible high risk meets infected medical\n",
        "        elif U<=events[9] and len(nodes_S_high_risk)!=0:\n",
        "            i = np.random.choice(nodes_S_high_risk)\n",
        "            # determine whether symptomatic or asymptomatic\n",
        "            p_symptom = np.random.uniform(0,1)\n",
        "            if p_symptom <= p_i[2]: # symptomatic\n",
        "                nodes_I_high_risk[i] = 'S'\n",
        "                nodes_S_high_risk.remove(i)\n",
        "            else: # asymptomatic\n",
        "                nodes_I_high_risk[i] = 'A'\n",
        "                nodes_S_high_risk.remove(i)\n",
        "\n",
        "            type_event[8] = type_event[8] + 1\n",
        "\n",
        "        # scenario 10: susceptible high risk meets infected essential\n",
        "        elif U<=events[10] and len(nodes_S_high_risk)!=0:\n",
        "            i = np.random.choice(nodes_S_high_risk)\n",
        "            # determine whether symptomatic or asymptomatic\n",
        "            p_symptom = np.random.uniform(0,1)\n",
        "            if p_symptom <= p_i[2]: # symptomatic\n",
        "                nodes_I_high_risk[i] = 'S'\n",
        "                nodes_S_high_risk.remove(i)\n",
        "            else: # asymptomatic\n",
        "                nodes_I_high_risk[i] = 'A'\n",
        "                nodes_S_high_risk.remove(i)\n",
        "\n",
        "            type_event[9] = type_event[9] + 1\n",
        "        # scenario 11: susceptible high risk meets infected high risk\n",
        "        elif U<=events[11] and len(nodes_S_high_risk)!=0:\n",
        "            i = np.random.choice(nodes_S_high_risk)\n",
        "            # determine whether symptomatic or asymptomatic\n",
        "            p_symptom = np.random.uniform(0,1)\n",
        "            if p_symptom <= p_i[2]: # symptomatic\n",
        "                nodes_I_high_risk[i] = 'S'\n",
        "                nodes_S_high_risk.remove(i)\n",
        "            else: # asymptomatic\n",
        "                nodes_I_high_risk[i] = 'A'\n",
        "                nodes_S_high_risk.remove(i)\n",
        "\n",
        "            type_event[10] = type_event[10] + 1\n",
        "        # scenario 12: susceptible high risk meets infected low risk\n",
        "        elif U<=events[12] and len(nodes_S_high_risk)!=0:\n",
        "            i = np.random.choice(nodes_S_high_risk)\n",
        "            # determine whether symptomatic or asymptomatic\n",
        "            p_symptom = np.random.uniform(0,1)\n",
        "            if p_symptom <= p_i[2]: # symptomatic\n",
        "                nodes_I_high_risk[i] = 'S'\n",
        "                nodes_S_high_risk.remove(i)\n",
        "            else: # asymptomatic\n",
        "                nodes_I_high_risk[i] = 'A'\n",
        "                nodes_S_high_risk.remove(i)\n",
        "            \n",
        "            type_event[11] = type_event[11] + 1\n",
        "        # scenario 13: susceptible low risk meets infected medical\n",
        "        elif U<=events[13] and len(nodes_S_low_risk)!=0:\n",
        "            i = np.random.choice(nodes_S_low_risk)\n",
        "            # determine whether symptomatic or asymptomatic\n",
        "            p_symptom = np.random.uniform(0,1)\n",
        "            if p_symptom <= p_i[3]: # symptomatic\n",
        "                nodes_I_low_risk[i] = 'S'\n",
        "                nodes_S_low_risk.remove(i)\n",
        "            else: # asymptomatic\n",
        "                nodes_I_low_risk[i] = 'A'\n",
        "                nodes_S_low_risk.remove(i)\n",
        "            \n",
        "            type_event[12] = type_event[12] + 1\n",
        "        # scenario 14: susceptible low risk meets infected essential\n",
        "        elif U<=events[14] and len(nodes_S_low_risk)!=0:\n",
        "            i = np.random.choice(nodes_S_low_risk)\n",
        "            # determine whether symptomatic or asymptomatic\n",
        "            p_symptom = np.random.uniform(0,1)\n",
        "            if p_symptom <= p_i[3]: # symptomatic\n",
        "                nodes_I_low_risk[i] = 'S'\n",
        "                nodes_S_low_risk.remove(i)\n",
        "            else: # asymptomatic\n",
        "                nodes_I_low_risk[i] = 'A'\n",
        "                nodes_S_low_risk.remove(i)\n",
        "\n",
        "            type_event[13] = type_event[13] + 1\n",
        "        # scenario 15: susceptible low risk meets infected high risk\n",
        "        elif U<=events[15] and len(nodes_S_low_risk)!=0:\n",
        "            i = np.random.choice(nodes_S_low_risk)\n",
        "            # determine whether symptomatic or asymptomatic\n",
        "            p_symptom = np.random.uniform(0,1)\n",
        "            if p_symptom <= p_i[3]: # symptomatic\n",
        "                nodes_I_low_risk[i] = 'S'\n",
        "                nodes_S_low_risk.remove(i)\n",
        "            else: # asymptomatic\n",
        "                nodes_I_low_risk[i] = 'A'\n",
        "                nodes_S_low_risk.remove(i)\n",
        "            \n",
        "            type_event[14] = type_event[14] + 1\n",
        "        # scenario 16: susceptible low risk meets infected low risk\n",
        "        elif U<=events[16] and len(nodes_S_low_risk)!=0:\n",
        "            i = np.random.choice(nodes_S_low_risk)\n",
        "            # determine whether symptomatic or asymptomatic\n",
        "            p_symptom = np.random.uniform(0,1)\n",
        "            if p_symptom <= p_i[3]: # symptomatic\n",
        "                nodes_I_low_risk[i] = 'S'\n",
        "                nodes_S_low_risk.remove(i)\n",
        "            else: # asymptomatic\n",
        "                nodes_I_low_risk[i] = 'A'\n",
        "                nodes_S_low_risk.remove(i)\n",
        "            \n",
        "            type_event[15] = type_event[15] + 1\n",
        "\n",
        "        # scenario 17: susceptible medical meets symptomatic infected medical\n",
        "        elif U<=events[17] and len(nodes_S_medical)!=0:\n",
        "            i = np.random.choice(nodes_S_medical)\n",
        "            # determine whether symptomatic or asymptomatic\n",
        "            p_symptom = np.random.uniform(0,1)\n",
        "            if p_symptom <= p_i[3]: # symptomatic\n",
        "                nodes_I_medical[i] = 'S'\n",
        "                nodes_S_medical.remove(i)\n",
        "            else: # asymptomatic\n",
        "                nodes_I_medical[i] = 'A'\n",
        "                nodes_S_medical.remove(i)\n",
        "            \n",
        "            type_event[16] = type_event[16] + 1\n",
        "\n",
        "        \n",
        "        # scenario 18: susceptible medical meets symptomatic infected essential workers\n",
        "        elif U<=events[18] and len(nodes_S_medical)!=0:\n",
        "            i = np.random.choice(nodes_S_medical)\n",
        "            # determine whether symptomatic or asymptomatic\n",
        "            p_symptom = np.random.uniform(0,1)\n",
        "            if p_symptom <= p_i[3]: # symptomatic\n",
        "                nodes_I_medical[i] = 'S'\n",
        "                nodes_S_medical.remove(i)\n",
        "            else: # asymptomatic\n",
        "                nodes_I_medical[i] = 'A'\n",
        "                nodes_S_medical.remove(i)\n",
        "\n",
        "            type_event[17] = type_event[17] + 1\n",
        "        # scenario 19: susceptible medical meets symptomatic infected high risk workers\n",
        "        elif U<=events[19] and len(nodes_S_medical)!=0:\n",
        "            i = np.random.choice(nodes_S_medical)\n",
        "            # determine whether symptomatic or asymptomatic\n",
        "            p_symptom = np.random.uniform(0,1)\n",
        "            if p_symptom <= p_i[3]: # symptomatic\n",
        "                nodes_I_medical[i] = 'S'\n",
        "                nodes_S_medical.remove(i)\n",
        "            else: # asymptomatic\n",
        "                nodes_I_medical[i] = 'A'\n",
        "                nodes_S_medical.remove(i)\n",
        "\n",
        "            type_event[18] = type_event[18] + 1\n",
        "        # scenario 20: susceptible medical meets symptomatic infected low risk workers\n",
        "        elif U<=events[20] and len(nodes_S_medical)!=0:\n",
        "            i = np.random.choice(nodes_S_medical)\n",
        "            # determine whether symptomatic or asymptomatic\n",
        "            p_symptom = np.random.uniform(0,1)\n",
        "            if p_symptom <= p_i[3]: # symptomatic\n",
        "                nodes_I_medical[i] = 'S'\n",
        "                nodes_S_medical.remove(i)\n",
        "            else: # asymptomatic\n",
        "                nodes_I_medical[i] = 'A'\n",
        "                nodes_S_medical.remove(i)\n",
        "            \n",
        "            type_event[19] = type_event[19] + 1\n",
        "\n",
        "        # recovery\n",
        "        else:\n",
        "  \n",
        "            i = np.random.choice(list(nodes_I_medical.keys()) + list(nodes_I_essential.keys()) + list(nodes_I_high_risk.keys()) + list(nodes_I_low_risk.keys())) # choose random infected person to recover\n",
        "\n",
        "            # find out which class the recovered agent is in\n",
        "            if i in nodes_I_medical.keys():\n",
        "                nodes_R_medical.append(i)\n",
        "                del nodes_I_medical[i]\n",
        "            elif i in nodes_I_essential.keys():\n",
        "                nodes_R_essential.append(i)\n",
        "                del nodes_I_essential[i]\n",
        "            elif i in nodes_I_high_risk.keys():\n",
        "                nodes_R_high_risk.append(i)\n",
        "                del nodes_I_high_risk[i]\n",
        "            else:\n",
        "                nodes_R_low_risk.append(i)\n",
        "                del nodes_I_low_risk[i]\n",
        "        \n",
        "        total_11 = len(nodes_S_medical)*sum(value == 'A' for value in nodes_I_medical.values())*lambda_matrix[0][0] # susceptible medical meets asymptomatic infected medical\n",
        "        total_12 = len(nodes_S_medical)*sum(value == 'A' for value in nodes_I_essential.values())*lambda_matrix[0][1] # susceptible medical meets asymptomatic infected essential\n",
        "        total_13 = len(nodes_S_medical)*sum(value == 'A' for value in nodes_I_high_risk.values())*lambda_matrix[0][2] # susceptible medical meets asymptomatic infected high-risk\n",
        "        total_14 = len(nodes_S_medical)*sum(value == 'A' for value in nodes_I_low_risk.values())*lambda_matrix[0][3] # susceptible medical meets asymptomatic infected low-risk\n",
        "        total_21 = len(nodes_S_essential)*sum(value == 'A' for value in nodes_I_medical.values())*lambda_matrix[1][0] # susceptible essential meets asymptomatic infected medical\n",
        "        total_22 = len(nodes_S_essential)*sum(value == 'A' for value in nodes_I_essential.values())*lambda_matrix[1][1] # susceptible essential meets asymptomatic infected essential\n",
        "        total_23 = len(nodes_S_essential)*sum(value == 'A' for value in nodes_I_high_risk.values())*lambda_matrix[1][2] # susceptible essential meets asymptomatic infected high risk\n",
        "        total_24 = len(nodes_S_essential)*sum(value == 'A' for value in nodes_I_low_risk.values())*lambda_matrix[1][3] # susceptible essential meets asymptomatic infected low risk\n",
        "        total_31 = len(nodes_S_high_risk)*sum(value == 'A' for value in nodes_I_medical.values())*lambda_matrix[2][0] # susceptible high risk meets asymptomatic infected medical\n",
        "        total_32 = len(nodes_S_high_risk)*sum(value == 'A' for value in nodes_I_essential.values())*lambda_matrix[2][1] # susceptible high risk meets infected essential\n",
        "        total_33 = len(nodes_S_high_risk)*sum(value == 'A' for value in nodes_I_high_risk.values())*lambda_matrix[2][2] # susceptible high risk meets infected high risk\n",
        "        total_34 = len(nodes_S_high_risk)*sum(value == 'A' for value in nodes_I_low_risk.values())*lambda_matrix[2][3] # susceptible high risk meets infected low risk\n",
        "        total_41 = len(nodes_S_low_risk)*sum(value == 'A' for value in nodes_I_medical.values())*lambda_matrix[3][0] # susceptible low risk meets infected medical\n",
        "        total_42 = len(nodes_S_low_risk)*sum(value == 'A' for value in nodes_I_essential.values())*lambda_matrix[3][1] # susceptible low risk meets infected essential\n",
        "        total_43 = len(nodes_S_low_risk)*sum(value == 'A' for value in nodes_I_high_risk.values())*lambda_matrix[3][2] # susceptible low risk meets infected high risk\n",
        "        total_44 = len(nodes_S_low_risk)*sum(value == 'A' for value in nodes_I_low_risk.values())*lambda_matrix[3][3] # susceptible low risk meets infected low risk\n",
        "\n",
        "        total_11s = len(nodes_S_medical)*sum(value == 'S' for value in nodes_I_medical.values())*lambda_matrix[4][0]\n",
        "        total_12s = len(nodes_S_medical)*sum(value == 'S' for value in nodes_I_essential.values())*lambda_matrix[4][1]\n",
        "        total_13s = len(nodes_S_medical)*sum(value == 'S' for value in nodes_I_high_risk.values())*lambda_matrix[4][2]\n",
        "        total_14s = len(nodes_S_medical)*sum(value == 'S' for value in nodes_I_low_risk.values())*lambda_matrix[4][3]\n",
        "\n",
        "        rate_recover = beta*(len(nodes_I_medical) + len(nodes_I_essential) + len(nodes_I_high_risk) + len(nodes_I_low_risk))\n",
        "        rate_total = total_11 + total_12 + total_13 + total_14 + total_21 + total_22 + total_23 + total_24 + total_31 + total_32 + total_33 + total_34 + total_41 + total_42 + total_43 + total_44 + rate_recover +total_11s + total_12s+ total_13s+ total_14s\n",
        "\n",
        "        if rate_total>0:\n",
        "          nextEvent= np.random.exponential(1/rate_total)\n",
        "\n",
        "\n",
        "\n",
        "        # order: S, I, R, V\n",
        "        medical_len = [len(nodes_S_medical),len(nodes_I_medical),len(nodes_R_medical),len(medical_vac)]\n",
        "        essential_len = [len(nodes_S_essential),len(nodes_I_essential),len(nodes_R_essential),len(essential_vac)]\n",
        "        high_risk_len = [len(nodes_S_high_risk),len(nodes_I_high_risk),len(nodes_R_high_risk),len(high_risk_vac)]\n",
        "        low_risk_len = [len(nodes_S_low_risk),len(nodes_I_low_risk),len(nodes_R_low_risk),len(low_risk_vac)]\n",
        "\n",
        "        susceptible = [len(nodes_S_medical),len(nodes_S_high_risk),len(nodes_S_essential),len(nodes_S_low_risk)]\n",
        "        infected = [len(nodes_I_medical),len(nodes_I_high_risk),len(nodes_I_essential),len(nodes_I_low_risk)]\n",
        "        vaccinated = [len(medical_vac),len(high_risk_vac),len(essential_vac),len(low_risk_vac)]\n",
        "        recovered = [len(nodes_R_medical),len(nodes_R_high_risk),len(nodes_R_essential),len(nodes_R_low_risk)]\n",
        "\n",
        "        \n",
        "        #plot_bar_3(susceptible, infected, vaccinated, recovered,n)\n",
        "        #plt.axis('equal')\n",
        "        #plt.axis('off')\n",
        "        #plt.show()\n",
        "        #sleep(0.02)\n",
        "        #clear_output(wait=True)\n",
        "        \n",
        "\n",
        "    return medical_len,high_risk_len,essential_len,low_risk_len,day,type_event"
      ],
      "execution_count": null,
      "outputs": []
    },
    {
      "cell_type": "code",
      "metadata": {
        "colab": {
          "base_uri": "https://localhost:8080/"
        },
        "id": "6QYqwvYtywV4",
        "outputId": "843ca70d-91ca-4f4d-f7d8-04a482da7250"
      },
      "source": [
        "## Group 1A Model 1: No Social Distancing \n",
        "\n",
        "# Since using a for loop is too time-consuming, we ran this manually 10 times and appended the result of each run to a list.\n",
        "infection = []\n",
        "days = []\n",
        "for i in range(10): \n",
        "  medical_len, high_risk_len, essential_len, low_risk_len, day, type_event = run_SIR_clusters_2(10,4,100000,1.5,[0.8,0.8,0.8,0.8],[0.25,0.25,0.25,0.25],0.01)\n",
        "\n",
        "  infection.append((medical_len[1]+high_risk_len[1]+essential_len[1]+low_risk_len[1]+medical_len[2]+high_risk_len[2]+essential_len[2]+low_risk_len[2])/100000)\n",
        "  days.append(day)\n",
        "  \n",
        "print(medical_len)\n",
        "print(high_risk_len)\n",
        "print(essential_len)\n",
        "print(low_risk_len)\n",
        "print(type_event)\n",
        "print(day)\n",
        "\n"
      ],
      "execution_count": null,
      "outputs": [
        {
          "output_type": "stream",
          "text": [
            "[16787, 0, 7463, 750]\n",
            "[21412, 0, 2838, 750]\n",
            "[21409, 0, 2841, 750]\n",
            "[21444, 0, 2806, 750]\n",
            "[562, 32, 10, 10, 277, 37, 20, 7, 273, 38, 15, 12, 263, 24, 11, 8, 2548, 1257, 1307, 1237]\n",
            "2\n"
          ],
          "name": "stdout"
        }
      ]
    },
    {
      "cell_type": "code",
      "metadata": {
        "colab": {
          "base_uri": "https://localhost:8080/"
        },
        "id": "EzxIRXaZPP60",
        "outputId": "d9527d04-9e20-415d-d0d4-93178ece0a6c"
      },
      "source": [
        "## Group 1A Model 2: Social Distancing \n",
        "\n",
        "# Since using a for loop is too time-consuming, we ran this manually 10 times and appended the result of each run to a list.\n",
        "\n",
        "infection2 = []\n",
        "days2 = []\n",
        "\n",
        "for i in range(10):\n",
        "  medical_len, high_risk_len, essential_len, low_risk_len, day, type_event = run_SIR_clusters_2(10,6,100000,1.5,[0.8,0.8,0.8,0.8],[0.25,0.25,0.25,0.25],0.01)\n",
        "\n",
        "  infection2.append((medical_len[1]+high_risk_len[1]+essential_len[1]+low_risk_len[1]+medical_len[2]+high_risk_len[2]+essential_len[2]+low_risk_len[2])/100000)\n",
        "  days2.append(day)\n",
        "  \n",
        "print(medical_len)\n",
        "print(high_risk_len)\n",
        "print(essential_len)\n",
        "print(low_risk_len)\n",
        "print(type_event)\n",
        "print(day)"
      ],
      "execution_count": null,
      "outputs": [
        {
          "output_type": "stream",
          "text": [
            "[17991, 0, 6259, 750]\n",
            "[21403, 0, 2847, 750]\n",
            "[21417, 0, 2833, 750]\n",
            "[21414, 0, 2836, 750]\n",
            "[467, 29, 14, 9, 277, 31, 11, 14, 284, 29, 12, 22, 279, 29, 13, 15, 1888, 1116, 1098, 1138]\n",
            "2\n"
          ],
          "name": "stdout"
        }
      ]
    },
    {
      "cell_type": "code",
      "metadata": {
        "id": "XoDZVRpW3nCo"
      },
      "source": [
        "import scipy.stats \n",
        "\n",
        "LB_infection = np.mean(infection) - scipy.stats.norm.ppf(1-0.05/2)*np.sqrt(np.var(infection)/num_trials) \n",
        "UB_infection = np.mean(infection) + scipy.stats.norm.ppf(1-0.05/2)*np.sqrt(np.var(infection)/num_trials)\n",
        "\n",
        "LB_days = np.mean(days) - scipy.stats.norm.ppf(1-0.05/2)*np.sqrt(np.var(days)/num_trials)\n",
        "UB_days = np.mean(days) + scipy.stats.norm.ppf(1-0.05/2)*np.sqrt(np.var(days)/num_trials)"
      ],
      "execution_count": null,
      "outputs": []
    },
    {
      "cell_type": "code",
      "metadata": {
        "colab": {
          "base_uri": "https://localhost:8080/"
        },
        "id": "2-2d7Sgo479y",
        "outputId": "788410d7-6ada-403b-8ee4-4ca9aa338b7f"
      },
      "source": [
        "LB_infection, UB_infection\n",
        "LB_days, UB_days"
      ],
      "execution_count": null,
      "outputs": [
        {
          "output_type": "execute_result",
          "data": {
            "text/plain": [
              "(2.9140614903086317, 3.2859385096913685)"
            ]
          },
          "metadata": {
            "tags": []
          },
          "execution_count": 201
        }
      ]
    },
    {
      "cell_type": "code",
      "metadata": {
        "colab": {
          "base_uri": "https://localhost:8080/"
        },
        "id": "hFn7AxAkxegl",
        "outputId": "1a21ec84-b0b2-49a9-d814-1733a41d5f15"
      },
      "source": [
        "medical_len, high_risk_len, essential_len, low_risk_len, day = run_SIR_clusters_2(10,1.5,100000,1.5,[0.8,0.8,0.8,0.8],[0.25,0.25,0.25,0.25],0.01)\n",
        "\n",
        "print(medical_len)\n",
        "print(high_risk_len)\n",
        "print(essential_len)\n",
        "print(low_risk_len)\n",
        "\n",
        "infection2.append((medical_len[1]+high_risk_len[1]+essential_len[1]+low_risk_len[1]+medical_len[2]+high_risk_len[2]+essential_len[2]+low_risk_len[2])/100000)\n",
        "days2.append(day)"
      ],
      "execution_count": null,
      "outputs": [
        {
          "output_type": "stream",
          "text": [
            "[17719, 0, 6281, 1000]\n",
            "[21367, 0, 2633, 1000]\n",
            "[21377, 0, 2623, 1000]\n",
            "[21386, 0, 2614, 1000]\n"
          ],
          "name": "stdout"
        }
      ]
    },
    {
      "cell_type": "code",
      "metadata": {
        "id": "LGNDCtAT56ej"
      },
      "source": [
        "LB_infection2 = np.mean(infection2) - scipy.stats.norm.ppf(1-0.05/2)*np.sqrt(np.var(infection2)/num_trials) \n",
        "UB_infection2 = np.mean(infection2) + scipy.stats.norm.ppf(1-0.05/2)*np.sqrt(np.var(infection2)/num_trials)\n",
        "\n",
        "LB_days2 = np.mean(days2) - scipy.stats.norm.ppf(1-0.05/2)*np.sqrt(np.var(days2)/num_trials)\n",
        "UB_days2 = np.mean(days2) + scipy.stats.norm.ppf(1-0.05/2)*np.sqrt(np.var(days2)/num_trials)"
      ],
      "execution_count": null,
      "outputs": []
    },
    {
      "cell_type": "code",
      "metadata": {
        "colab": {
          "base_uri": "https://localhost:8080/"
        },
        "id": "4v7kOOvgp5wr",
        "outputId": "406e6b2e-42ad-40df-8edd-0f7179b4a1b9"
      },
      "source": [
        "# Comparing 95% CI\n",
        "\n",
        "print('The 95% CI for percentage of infected individual in total population without social distancing is (', np.round(LB_infection,4), ', ', np.round(UB_infection,4),')')\n",
        "print('The 95% CI for percentage of infected individual in total population with social distancing is (', np.round(LB_infection2,4), ', ', np.round(UB_infection2,4),')')\n",
        "\n",
        "print()\n",
        "print()\n",
        "\n",
        "print('The 95% CI for the number of days it takes to contain the virus without social distancing is(', np.round(LB_days,4), ', ', np.round(UB_days,4), ')')\n",
        "print('The 95% CI for the number of days it takes to contain the virus with social distancing is(', np.round(LB_days2,4), ', ', np.round(UB_days2,4), ')')"
      ],
      "execution_count": null,
      "outputs": [
        {
          "output_type": "stream",
          "text": [
            "The 95% CI for percentage of infected individual in total population without social distancing is ( 0.1297 ,  0.1316 )\n",
            "The 95% CI for percentage of infected individual in total population with social distancing is ( 0.1409 ,  0.1439 )\n",
            "\n",
            "\n",
            "The 95% CI for the number of days it takes to contain the virus without social distancing is( 2.9141 ,  3.2859 )\n",
            "The 95% CI for the number of days it takes to contain the virus with social distancing is( 3.6661 ,  4.5339 )\n"
          ],
          "name": "stdout"
        }
      ]
    },
    {
      "cell_type": "code",
      "metadata": {
        "colab": {
          "base_uri": "https://localhost:8080/",
          "height": 444
        },
        "id": "4fK2YHuoFwOI",
        "outputId": "d739e522-1e8f-49f5-b08f-11a79864a6c0"
      },
      "source": [
        "labels = ['Days It Takes to Contain the Virus']\n",
        "without_social_distancing = [np.mean(infection),np.mean(days)]\n",
        "with_social_distancing = [np.mean(infection2),np.mean(days2)]\n",
        "\n",
        "\n",
        "x = np.arange(len(labels))  # the label locations\n",
        "width = 0.25  # the width of the bars\n",
        "\n",
        "\n",
        "fig, ax = plt.subplots(figsize=(7,7))\n",
        "\n",
        "rects1 = ax.bar(x - width/2, without_social_distancing, width, label='Without Social Distancing')\n",
        "rects2 = ax.bar(x + width/2, with_social_distancing, width, label='With Social Distancing')\n",
        "\n",
        "# Add some text for labels, title and custom x-axis tick labels, etc.\n",
        "ax.set_ylabel('Number of Days')\n",
        "ax.set_title('Days It Takes to Contain the Virus with Varying Social Distancing Policies')\n",
        "ax.set_xticks(x)\n",
        "ax.set_xticklabels(labels)\n",
        "ax.legend()\n",
        "\n",
        "plt.show()"
      ],
      "execution_count": null,
      "outputs": [
        {
          "output_type": "display_data",
          "data": {
            "image/png": "[encoded data removed]",
            "text/plain": [
              "<Figure size 504x504 with 1 Axes>"
            ]
          },
          "metadata": {
            "tags": [],
            "needs_background": "light"
          }
        }
      ]
    },
    {
      "cell_type": "code",
      "metadata": {
        "colab": {
          "base_uri": "https://localhost:8080/",
          "height": 444
        },
        "id": "A_vOPR6RA7SZ",
        "outputId": "3fa01f6a-033d-436c-e1d5-744572e3743f"
      },
      "source": [
        "labels = ['Infected Percentage of Total Population']\n",
        "\n",
        "without_social_distancing = [np.mean(infection)]\n",
        "with_social_distancing = [np.mean(infection2)]\n",
        "\n",
        "x = np.arange(len(labels))  # the label locations\n",
        "width = 0.25  # the width of the bars\n",
        "\n",
        "fig, ax = plt.subplots(figsize=(7,7))\n",
        "\n",
        "rects1 = ax.bar(x - width/2, without_social_distancing, width, label='Without Social Distancing')\n",
        "rects2 = ax.bar(x + width/2, with_social_distancing, width, label='With Social Distancing')\n",
        "\n",
        "# Add some text for labels, title and custom x-axis tick labels, etc.\n",
        "ax.set_ylabel('Percentage of Total Population')\n",
        "ax.set_title('Infected Percentage of Total Population with Varying Social Distancing Policies')\n",
        "ax.set_xticks(x)\n",
        "ax.set_xticklabels(labels)\n",
        "ax.legend()\n",
        "\n",
        "plt.show()"
      ],
      "execution_count": null,
      "outputs": [
        {
          "output_type": "display_data",
          "data": {
            "image/png": "[encoded data removed]",
            "text/plain": [
              "<Figure size 504x504 with 1 Axes>"
            ]
          },
          "metadata": {
            "tags": [],
            "needs_background": "light"
          }
        }
      ]
    },
    {
      "cell_type": "markdown",
      "metadata": {
        "id": "unuiBc6uWQ2m"
      },
      "source": [
        "Group 2: Changing Vaccine Doese Availability (keeping meeting rate and vaccine distribution fixed)"
      ]
    },
    {
      "cell_type": "code",
      "metadata": {
        "id": "UEYewB7xWeJn"
      },
      "source": [
        "infection = []\r\n",
        "days = []\r\n",
        "\r\n",
        "num_trials = 10\r\n",
        "for each in range(num_trials):  \r\n",
        "  a= run_SIR_clusters_2(10,1.5,100000,1.5,[0,0,0,0],[0.25,0.25,0.25,0.25],0.2)\r\n",
        "  infection.append(a[0][2]+a[1][2]+a[2][1]+a[3][2])\r\n",
        "  day=a[4]\r\n",
        "  days.append(day)\r\n"
      ],
      "execution_count": null,
      "outputs": []
    },
    {
      "cell_type": "code",
      "metadata": {
        "colab": {
          "base_uri": "https://localhost:8080/"
        },
        "id": "Ml6R4cGpogZm",
        "outputId": "f471e24d-abb6-4ebe-bee6-80d579fb5caf"
      },
      "source": [
        "days"
      ],
      "execution_count": null,
      "outputs": [
        {
          "output_type": "execute_result",
          "data": {
            "text/plain": [
              "[4, 3, 3, 4, 4, 4, 4, 3, 4, 3]"
            ]
          },
          "metadata": {
            "tags": []
          },
          "execution_count": 68
        }
      ]
    },
    {
      "cell_type": "code",
      "metadata": {
        "id": "iuwqKu24fymX"
      },
      "source": [
        "#avg infection rate at different vaccine availability:\r\n",
        "infect_rate=[]\r\n",
        "#avg days at different vaccine availability\r\n",
        "days_all=[]\r\n",
        "#doses\r\n",
        "dosage=[0.01,0.05,0.1,0.15,0.2]"
      ],
      "execution_count": null,
      "outputs": []
    },
    {
      "cell_type": "code",
      "metadata": {
        "id": "Rzn3yvpwhOUy"
      },
      "source": [
        "#store LB and UB at each dose availability\r\n",
        "rate_LB=[]\r\n",
        "rate_UB=[]\r\n",
        "days_LB=[]\r\n",
        "days_UB=[]"
      ],
      "execution_count": null,
      "outputs": []
    },
    {
      "cell_type": "code",
      "metadata": {
        "id": "0WM3tQ8UiGeF"
      },
      "source": [
        "days_test_1=[10, 7, 10, 8, 10,9,8,10,7,8]\r\n",
        "infect_test_1=[27480,27786,26414,26671,2664,28691, 26671, 26783, 28025, 25234]"
      ],
      "execution_count": null,
      "outputs": []
    },
    {
      "cell_type": "code",
      "metadata": {
        "id": "msOOiIuSkoby"
      },
      "source": [
        "days_test_2=[8, 7, 6, 7, 6, 5, 6, 7, 6, 6]\r\n",
        "infect_test_2=[19281, 20655, 20446, 20020, 19256, 19320, 21296, 19249, 19299, 19643]"
      ],
      "execution_count": null,
      "outputs": []
    },
    {
      "cell_type": "code",
      "metadata": {
        "id": "hNuCvl1Pkqqa"
      },
      "source": [
        "days_test_3=[5, 5, 4, 6, 4, 4, 4, 5, 5, 5]\r\n",
        "infect_test_3=[15754, 15574, 15128, 15494, 14980, 15191, 14901, 15150, 15262, 15042]"
      ],
      "execution_count": null,
      "outputs": []
    },
    {
      "cell_type": "code",
      "metadata": {
        "id": "m9D2XlkAksEE"
      },
      "source": [
        "days_test_4=[4, 4, 4, 3, 4, 4, 5, 4, 5, 4]\r\n",
        "infect_test_4=[12921, 13131, 13227, 12528, 12782, 12660, 12693, 12440, 12792, 13072]"
      ],
      "execution_count": null,
      "outputs": []
    },
    {
      "cell_type": "code",
      "metadata": {
        "id": "WxbxU3hJksnx"
      },
      "source": [
        "days_test_5=[4, 3, 3, 4, 4, 4, 4, 3, 4, 3]\r\n",
        "infect_test_5=[11314, 11503, 11226, 11308, 11650, 11298, 11405, 11691, 11581, 11293]"
      ],
      "execution_count": null,
      "outputs": []
    },
    {
      "cell_type": "code",
      "metadata": {
        "colab": {
          "base_uri": "https://localhost:8080/"
        },
        "id": "dW4fdo4AX_WS",
        "outputId": "2885bb97-7bf5-4906-bb17-42961c7b67fb"
      },
      "source": [
        "\r\n",
        "population=100000\r\n",
        "avg_infect_rate=np.mean(infect_test_5)/population\r\n",
        "avg_days=np.mean(days_test_5)\r\n",
        "\r\n",
        "infect_rate.append(avg_infect_rate)\r\n",
        "days_all.append(avg_days)\r\n",
        "#95% CI\r\n",
        "num_trials=10\r\n",
        "LB_infection = np.mean(infect_test_5) - sc.norm.ppf(1-0.05/2)*np.sqrt(np.var(infect_test_5)/num_trials) \r\n",
        "UB_infection = np.mean(infect_test_5) + sc.norm.ppf(1-0.05/2)*np.sqrt(np.var(infect_test_5)/num_trials)\r\n",
        "\r\n",
        "LB_days = np.mean(days_test_5) - sc.norm.ppf(1-0.05/2)*np.sqrt(np.var(days_test_5)/num_trials)\r\n",
        "UB_days = np.mean(days_test_5) + sc.norm.ppf(1-0.05/2)*np.sqrt(np.var(days_test_5)/num_trials)\r\n",
        "\r\n",
        "print('The 95% CI for the number of infected people is,(', LB_infection,', ', UB_infection, ')')\r\n",
        "print('The 95% CI for the number of days it takes to contain the virus is (', LB_days,', ', UB_days, ')')\r\n",
        "LB_infect_rate=LB_infection/population\r\n",
        "UB_infect_rate=UB_infection/population\r\n",
        "\r\n",
        "rate_LB.append(LB_infect_rate)\r\n",
        "rate_UB.append(UB_infect_rate)\r\n",
        "days_LB.append(LB_days)\r\n",
        "days_UB.append(UB_days)\r\n"
      ],
      "execution_count": null,
      "outputs": [
        {
          "output_type": "stream",
          "text": [
            "The 95% CI for the number of infected people is,( 11328.641686366987 ,  11525.158313633012 )\n",
            "The 95% CI for the number of days it takes to contain the virus is ( 3.2963636851484015 ,  3.9036363148515987 )\n"
          ],
          "name": "stdout"
        }
      ]
    },
    {
      "cell_type": "code",
      "metadata": {
        "colab": {
          "base_uri": "https://localhost:8080/"
        },
        "id": "yEAABPgjlUTa",
        "outputId": "d857c001-9b8d-41ed-de31-9034fe381ac6"
      },
      "source": [
        "#check \r\n",
        "print(infect_rate)\r\n",
        "print(days_all)\r\n",
        "print(rate_LB)\r\n",
        "print(days_LB)\r\n",
        "rate_LB=[0.2006582032471109, 0.1941762680482646, 0.1508539069980223, 0.12671586627236198, 0.11328641686366987]\r\n",
        "rate_UB=[0.29217979675288913, 0.20275373195173538, 0.15409809300197772, 0.12977613372763805, 0.11525158313633012]\r\n",
        "print(days_UB)"
      ],
      "execution_count": null,
      "outputs": [
        {
          "output_type": "stream",
          "text": [
            "[0.24641900000000003, 0.198465, 0.152476, 0.128246, 0.114269]\n",
            "[8.7, 6.4, 4.7, 4.1, 3.6]\n",
            "[0.2006582032471109, 0.1941762680482646, 0.1508539069980223, 0.12671586627236198, 0.11328641686366987]\n",
            "[7.964034176256892, 5.904163974156351, 4.303137540641019, 3.766230160439668, 3.2963636851484015]\n",
            "[9.435965823743107, 6.89583602584365, 5.096862459358982, 4.433769839560331, 3.9036363148515987]\n"
          ],
          "name": "stdout"
        }
      ]
    },
    {
      "cell_type": "code",
      "metadata": {
        "colab": {
          "base_uri": "https://localhost:8080/",
          "height": 458
        },
        "id": "ySLRyJ2mceV6",
        "outputId": "a3beefcc-f745-45b5-e0b4-87ef7b166796"
      },
      "source": [
        "#Visualizations\r\n",
        "plt.figure(figsize=(10,7))\r\n",
        "\r\n",
        "# plot the average \r\n",
        "plt.plot(dosage,infect_rate,label='Infection Rate')\r\n",
        "\r\n",
        "# plot the 95% CI\r\n",
        "plt.plot(dosage,rate_UB, color='blue',linestyle='dashed',label='Upper Bound')\r\n",
        "plt.plot(dosage,rate_LB, color='olive',linestyle='dashed',label='Lower Bound')\r\n",
        "\r\n",
        "# axes\r\n",
        "plt.xlabel('Vaccine Doses Availability')\r\n",
        "plt.ylabel('Percentage of Population Infected by COVID')\r\n",
        "\r\n",
        "# title \r\n",
        "plt.title('Trend in Infection Rate with Changing Vaccine Availability (with 95% CI)')\r\n",
        "plt.legend()\r\n",
        "plt.savefig('infectionrate_vaccinedoeses.png')\r\n",
        "plt.show()"
      ],
      "execution_count": null,
      "outputs": [
        {
          "output_type": "display_data",
          "data": {
            "image/png": "[encoded data removed]",
            "text/plain": [
              "<Figure size 720x504 with 1 Axes>"
            ]
          },
          "metadata": {
            "tags": [],
            "needs_background": "light"
          }
        }
      ]
    },
    {
      "cell_type": "code",
      "metadata": {
        "colab": {
          "base_uri": "https://localhost:8080/",
          "height": 458
        },
        "id": "QKBnZvoFmD-k",
        "outputId": "881ab58b-8cb5-46b1-9792-bbae1d809840"
      },
      "source": [
        "#Visualizations: plot days to contain the virus \r\n",
        "plt.figure(figsize=(10,7))\r\n",
        "\r\n",
        "# plot the average \r\n",
        "plt.plot(dosage,days_all,label='Days')\r\n",
        "\r\n",
        "# plot the 95% CI\r\n",
        "plt.plot(dosage,days_UB, color='blue',linestyle='dashed',label='Upper Bound')\r\n",
        "plt.plot(dosage,days_LB, color='olive',linestyle='dashed',label='Lower Bound')\r\n",
        "\r\n",
        "# axes\r\n",
        "plt.xlabel('Vaccine Doses Availability')\r\n",
        "plt.ylabel('Days to Contain the Virus')\r\n",
        "\r\n",
        "# title \r\n",
        "plt.title('Trend in Days in Contain the Virus with Changing Vaccine Availability (with 95% CI)')\r\n",
        "plt.legend()\r\n",
        "\r\n",
        "plt.show()"
      ],
      "execution_count": null,
      "outputs": [
        {
          "output_type": "display_data",
          "data": {
            "image/png": "[encoded data removed]",
            "text/plain": [
              "<Figure size 720x504 with 1 Axes>"
            ]
          },
          "metadata": {
            "tags": [],
            "needs_background": "light"
          }
        }
      ]
    },
    {
      "cell_type": "markdown",
      "metadata": {
        "id": "9CCTjE0fmiml"
      },
      "source": [
        "Group 3: **Change Vaccine Distribution**, While Keeping Vaccine Doses Availability and Social Distancing Constant (3 tests)"
      ]
    },
    {
      "cell_type": "code",
      "metadata": {
        "id": "RZ7UlNlxmss_"
      },
      "source": [
        "#[0.25, 0.25, 0.25, 0.25], [0.4,0.2,0.2,0.2],[0.2,0.4,0.2,0.2]\r\n",
        "infection = []\r\n",
        "days = []\r\n",
        "\r\n",
        "num_trials = 10\r\n",
        "for each in range(num_trials):  \r\n",
        "  a= run_SIR_clusters_2(10,4,100000,1.5,[0,0,0,0],[0.2,0.4,0.2,0.2],0.05)\r\n",
        "  infection.append(a[0][2]+a[1][2]+a[2][1]+a[3][2])\r\n",
        "  day=a[4]\r\n",
        "  days.append(day)\r\n"
      ],
      "execution_count": null,
      "outputs": []
    },
    {
      "cell_type": "code",
      "metadata": {
        "colab": {
          "base_uri": "https://localhost:8080/"
        },
        "id": "SIBCfc3WAsVd",
        "outputId": "f60cc295-87a3-433b-d1b2-41c34e8da272"
      },
      "source": [
        "infection_1=infection\r\n",
        "days_1=days\r\n",
        "print(infection)\r\n",
        "print(days_1)"
      ],
      "execution_count": null,
      "outputs": [
        {
          "output_type": "stream",
          "text": [
            "[28404, 27954, 28695, 28389, 28415, 28303, 29547, 28088, 27920, 28102]\n",
            "[5, 6, 5, 6, 5, 5, 6, 6, 5, 7]\n"
          ],
          "name": "stdout"
        }
      ]
    },
    {
      "cell_type": "code",
      "metadata": {
        "colab": {
          "base_uri": "https://localhost:8080/"
        },
        "id": "H_OVt_4NAy9S",
        "outputId": "8be10e84-9576-4180-a0a4-3257f2cdd7dc"
      },
      "source": [
        "infection_2=infection\r\n",
        "days_2=days\r\n",
        "print(infection_2)\r\n",
        "print(days_2)"
      ],
      "execution_count": null,
      "outputs": [
        {
          "output_type": "stream",
          "text": [
            "[28015, 28584, 28328, 28084, 26212, 27601, 25787, 27269, 27707, 28806]\n",
            "[5, 6, 6, 5, 5, 6, 7, 5, 5, 5]\n"
          ],
          "name": "stdout"
        }
      ]
    },
    {
      "cell_type": "code",
      "metadata": {
        "colab": {
          "base_uri": "https://localhost:8080/"
        },
        "id": "AZEh-HT0HjbI",
        "outputId": "18716e89-fd0a-4e4a-f73b-d0b1e99ffa31"
      },
      "source": [
        "infection_3=infection\r\n",
        "days_3=days\r\n",
        "print(infection_3)\r\n",
        "print(days_3)"
      ],
      "execution_count": null,
      "outputs": [
        {
          "output_type": "stream",
          "text": [
            "[27656, 25895, 28226, 27112, 27101, 28283, 26903, 26799, 28082, 27877]\n",
            "[5, 6, 5, 5, 6, 5, 5, 5, 6, 5]\n"
          ],
          "name": "stdout"
        }
      ]
    },
    {
      "cell_type": "code",
      "metadata": {
        "id": "W1het7yQnDl2"
      },
      "source": [
        "#avg infection rate for each distribution\r\n",
        "infect_rate=[]\r\n",
        "#avg days for each distribution\r\n",
        "days_all=[]\r\n",
        "#store LB and UB for each distribution \r\n",
        "rate_error=[]\r\n",
        "days_error=[]"
      ],
      "execution_count": null,
      "outputs": []
    },
    {
      "cell_type": "code",
      "metadata": {
        "id": "XELR3qaQntyn"
      },
      "source": [
        "population=100000\r\n",
        "avg_infect_rate=np.mean(infection)/population\r\n",
        "avg_days=np.mean(days)\r\n",
        "\r\n",
        "infect_rate.append(avg_infect_rate)\r\n",
        "days_all.append(avg_days)\r\n",
        "#95% CI\r\n",
        "num_trials=10\r\n",
        "error_infect = sc.norm.ppf(1-0.05/2)*np.sqrt(np.var(infection)/num_trials) \r\n",
        "error_days = sc.norm.ppf(1-0.05/2)*np.sqrt(np.var(days)/num_trials)\r\n",
        "\r\n",
        "##print('The 95% CI for the number of infected people is,(', LB_infection,', ', UB_infection, ')')\r\n",
        "#print('The 95% CI for the number of days it takes to contain the virus is (', LB_days,', ', UB_days, ')')\r\n",
        "error_infect=error_infect/population\r\n",
        "\r\n",
        "rate_error.append(error_infect)\r\n",
        "days_error.append(error_days)"
      ],
      "execution_count": null,
      "outputs": []
    },
    {
      "cell_type": "code",
      "metadata": {
        "colab": {
          "base_uri": "https://localhost:8080/"
        },
        "id": "kNs1S11ToaDu",
        "outputId": "a83ad889-cad6-4bbf-fb6c-36765463ee6d"
      },
      "source": [
        "#check\r\n",
        "print(infect_rate)\r\n",
        "print(days_all)"
      ],
      "execution_count": null,
      "outputs": [
        {
          "output_type": "stream",
          "text": [
            "[0.283817, 0.276393, 0.273934]\n",
            "[5.6, 5.5, 5.3]\n"
          ],
          "name": "stdout"
        }
      ]
    },
    {
      "cell_type": "code",
      "metadata": {
        "colab": {
          "base_uri": "https://localhost:8080/",
          "height": 297
        },
        "id": "sgzydnOxnIub",
        "outputId": "ab47378a-2c4e-423d-c7b5-9bbabb51d348"
      },
      "source": [
        "#Visualization: Bar Plot (with error bars)\r\n",
        "import numpy as np\r\n",
        "import matplotlib.pyplot as plt\r\n",
        "\r\n",
        "ax = fig.add_axes([0,0,1,1])\r\n",
        "dist = ['Even (25%)', '40% to Med', '40% to High-Risk']\r\n",
        "\r\n",
        "x_pos = np.arange(len(dist))\r\n",
        "avgrate = infect_rate\r\n",
        "error = rate_error\r\n",
        "\r\n",
        "fig, ax = plt.subplots()\r\n",
        "ax.bar(x_pos, avgrate, yerr=error, align='center', alpha=0.5, ecolor='black', capsize=10)\r\n",
        "ax.set_ylabel('Infection Rate')\r\n",
        "ax.set_xticks(x_pos)\r\n",
        "ax.set_xticklabels(dist)\r\n",
        "ax.set_title('Infection Rates for Different Vaccine Distribution Strategies')\r\n",
        "ax.yaxis.grid(True)\r\n",
        "\r\n",
        "# Save the figure and show\r\n",
        "plt.tight_layout()\r\n",
        "plt.show()\r\n"
      ],
      "execution_count": null,
      "outputs": [
        {
          "output_type": "display_data",
          "data": {
            "image/png": "[encoded data removed]",
            "text/plain": [
              "<Figure size 432x288 with 1 Axes>"
            ]
          },
          "metadata": {
            "tags": [],
            "needs_background": "light"
          }
        }
      ]
    },
    {
      "cell_type": "code",
      "metadata": {
        "colab": {
          "base_uri": "https://localhost:8080/",
          "height": 297
        },
        "id": "TVXBMkF8uzkk",
        "outputId": "a5aa48c3-e58c-4e5b-bc00-db0e9311abc5"
      },
      "source": [
        "#Visualization: for Days\r\n",
        "import numpy as np\r\n",
        "import matplotlib.pyplot as plt\r\n",
        "#fig = plt.figure()\r\n",
        "ax = fig.add_axes([0,0,1,1])\r\n",
        "dist = ['Even(25%)', '40% to Med', '40% to High-Risk']\r\n",
        "\r\n",
        "x_pos = np.arange(len(dist))\r\n",
        "avgrate = days_all\r\n",
        "error = days_error\r\n",
        "\r\n",
        "fig, ax = plt.subplots()\r\n",
        "ax.bar(x_pos, avgrate, yerr=error, align='center', alpha=0.5, ecolor='black', capsize=10)\r\n",
        "ax.set_ylabel('Days')\r\n",
        "ax.set_xticks(x_pos)\r\n",
        "ax.set_xticklabels(dist)\r\n",
        "ax.set_title('Days to Contain the Virus for Different Vaccine Distribution')\r\n",
        "ax.yaxis.grid(True)\r\n",
        "\r\n",
        "# Save the figure and show\r\n",
        "plt.tight_layout()\r\n",
        "plt.show()"
      ],
      "execution_count": null,
      "outputs": [
        {
          "output_type": "display_data",
          "data": {
            "image/png": "[encoded data removed]",
            "text/plain": [
              "<Figure size 432x288 with 1 Axes>"
            ]
          },
          "metadata": {
            "tags": [],
            "needs_background": "light"
          }
        }
      ]
    }
  ]
}